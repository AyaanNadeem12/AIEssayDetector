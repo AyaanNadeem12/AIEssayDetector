{
 "cells": [
  {
   "cell_type": "code",
   "execution_count": 13,
   "id": "aa257fdc",
   "metadata": {},
   "outputs": [],
   "source": [
    "import sys\n",
    "from pathlib import Path\n",
    "\n",
    "# add project root to sys.path\n",
    "BASE_DIR = Path(__file__).resolve().parent.parent if \"__file__\" in globals() else Path().resolve().parent\n",
    "sys.path.append(str(BASE_DIR))\n",
    "\n",
    "from config import DATA_DIR\n"
   ]
  },
  {
   "cell_type": "markdown",
   "id": "12c3fa51",
   "metadata": {},
   "source": [
    "## 1. Data Loading and Inspection\n",
    "First, let's import the required libraries and analyze the dataframe"
   ]
  },
  {
   "cell_type": "code",
   "execution_count": 14,
   "id": "7fda74e7",
   "metadata": {},
   "outputs": [],
   "source": [
    "import pandas as pd\n",
    "import matplotlib.pyplot as plt \n",
    "import seaborn as sns\n",
    "import os\n",
    "\n",
    "df = pd.read_csv(DATA_DIR / \"balanced_ai_human_prompts.csv\")\n"
   ]
  },
  {
   "cell_type": "code",
   "execution_count": 15,
   "id": "8fab30c9",
   "metadata": {},
   "outputs": [
    {
     "data": {
      "text/html": [
       "<div>\n",
       "<style scoped>\n",
       "    .dataframe tbody tr th:only-of-type {\n",
       "        vertical-align: middle;\n",
       "    }\n",
       "\n",
       "    .dataframe tbody tr th {\n",
       "        vertical-align: top;\n",
       "    }\n",
       "\n",
       "    .dataframe thead th {\n",
       "        text-align: right;\n",
       "    }\n",
       "</style>\n",
       "<table border=\"1\" class=\"dataframe\">\n",
       "  <thead>\n",
       "    <tr style=\"text-align: right;\">\n",
       "      <th></th>\n",
       "      <th>text</th>\n",
       "      <th>generated</th>\n",
       "    </tr>\n",
       "  </thead>\n",
       "  <tbody>\n",
       "    <tr>\n",
       "      <th>0</th>\n",
       "      <td>Machine learning, a subset of artificial intel...</td>\n",
       "      <td>1</td>\n",
       "    </tr>\n",
       "    <tr>\n",
       "      <th>1</th>\n",
       "      <td>A decision tree, a prominent machine learning ...</td>\n",
       "      <td>1</td>\n",
       "    </tr>\n",
       "    <tr>\n",
       "      <th>2</th>\n",
       "      <td>Education, a cornerstone of societal progress,...</td>\n",
       "      <td>1</td>\n",
       "    </tr>\n",
       "    <tr>\n",
       "      <th>3</th>\n",
       "      <td>Computers, the backbone of modern technology, ...</td>\n",
       "      <td>1</td>\n",
       "    </tr>\n",
       "    <tr>\n",
       "      <th>4</th>\n",
       "      <td>Chess, a timeless game of strategy and intelle...</td>\n",
       "      <td>1</td>\n",
       "    </tr>\n",
       "  </tbody>\n",
       "</table>\n",
       "</div>"
      ],
      "text/plain": [
       "                                                text  generated\n",
       "0  Machine learning, a subset of artificial intel...          1\n",
       "1  A decision tree, a prominent machine learning ...          1\n",
       "2  Education, a cornerstone of societal progress,...          1\n",
       "3  Computers, the backbone of modern technology, ...          1\n",
       "4  Chess, a timeless game of strategy and intelle...          1"
      ]
     },
     "execution_count": 15,
     "metadata": {},
     "output_type": "execute_result"
    }
   ],
   "source": [
    "# first few rows\n",
    "df.head()"
   ]
  },
  {
   "cell_type": "code",
   "execution_count": 16,
   "id": "062dcf68",
   "metadata": {},
   "outputs": [
    {
     "data": {
      "text/html": [
       "<div>\n",
       "<style scoped>\n",
       "    .dataframe tbody tr th:only-of-type {\n",
       "        vertical-align: middle;\n",
       "    }\n",
       "\n",
       "    .dataframe tbody tr th {\n",
       "        vertical-align: top;\n",
       "    }\n",
       "\n",
       "    .dataframe thead th {\n",
       "        text-align: right;\n",
       "    }\n",
       "</style>\n",
       "<table border=\"1\" class=\"dataframe\">\n",
       "  <thead>\n",
       "    <tr style=\"text-align: right;\">\n",
       "      <th></th>\n",
       "      <th>text</th>\n",
       "      <th>generated</th>\n",
       "    </tr>\n",
       "  </thead>\n",
       "  <tbody>\n",
       "    <tr>\n",
       "      <th>2745</th>\n",
       "      <td>Generate a detailed summary of global healthca...</td>\n",
       "      <td>1</td>\n",
       "    </tr>\n",
       "    <tr>\n",
       "      <th>2746</th>\n",
       "      <td>Compose an in-depth exploration of financial t...</td>\n",
       "      <td>1</td>\n",
       "    </tr>\n",
       "    <tr>\n",
       "      <th>2747</th>\n",
       "      <td>Generate a detailed summary of autonomous vehi...</td>\n",
       "      <td>1</td>\n",
       "    </tr>\n",
       "    <tr>\n",
       "      <th>2748</th>\n",
       "      <td>Develop a persuasive argument about internet o...</td>\n",
       "      <td>1</td>\n",
       "    </tr>\n",
       "    <tr>\n",
       "      <th>2749</th>\n",
       "      <td>Generate a detailed summary of supply chain ma...</td>\n",
       "      <td>1</td>\n",
       "    </tr>\n",
       "  </tbody>\n",
       "</table>\n",
       "</div>"
      ],
      "text/plain": [
       "                                                   text  generated\n",
       "2745  Generate a detailed summary of global healthca...          1\n",
       "2746  Compose an in-depth exploration of financial t...          1\n",
       "2747  Generate a detailed summary of autonomous vehi...          1\n",
       "2748  Develop a persuasive argument about internet o...          1\n",
       "2749  Generate a detailed summary of supply chain ma...          1"
      ]
     },
     "execution_count": 16,
     "metadata": {},
     "output_type": "execute_result"
    }
   ],
   "source": [
    "# last few rows\n",
    "df.tail()"
   ]
  },
  {
   "cell_type": "code",
   "execution_count": 17,
   "id": "50c22d26",
   "metadata": {},
   "outputs": [
    {
     "data": {
      "text/plain": [
       "(2750, 2)"
      ]
     },
     "execution_count": 17,
     "metadata": {},
     "output_type": "execute_result"
    }
   ],
   "source": [
    "# shape of the dataframe\n",
    "df.shape"
   ]
  },
  {
   "cell_type": "markdown",
   "id": "4dc50273",
   "metadata": {},
   "source": [
    "## 2. Data Segmentation and Visualization\n",
    "Let's check the number of essays which are AI generated and human written"
   ]
  },
  {
   "cell_type": "code",
   "execution_count": 18,
   "id": "7fc33a76",
   "metadata": {},
   "outputs": [
    {
     "name": "stdout",
     "output_type": "stream",
     "text": [
      "Number of AI generated essays: 1375\n",
      "Number of human written essays: 1375\n"
     ]
    }
   ],
   "source": [
    "# Distribution of AI vs Human essays\n",
    "counts = df['generated'].value_counts()\n",
    "print(\"Number of AI generated essays:\", counts.get(1, 0))\n",
    "print(\"Number of human written essays:\", counts.get(0, 0))"
   ]
  },
  {
   "cell_type": "code",
   "execution_count": 12,
   "id": "ec860393",
   "metadata": {},
   "outputs": [
    {
     "data": {
      "image/png": "[encoded data removed]",
      "text/plain": [
       "<Figure size 800x600 with 1 Axes>"
      ]
     },
     "metadata": {},
     "output_type": "display_data"
    }
   ],
   "source": [
    "plt.figure(figsize=(8, 6))\n",
    "sns.countplot(x='generated', data=df)\n",
    "plt.title('Distribution of AI Generated vs Human Written Essays')\n",
    "plt.xlabel('Generated (1 = AI, 0 = Human)')\n",
    "plt.ylabel('Count')\n",
    "plt.show()"
   ]
  }
 ],
 "metadata": {
  "kernelspec": {
   "display_name": "Python 3",
   "language": "python",
   "name": "python3"
  },
  "language_info": {
   "codemirror_mode": {
    "name": "ipython",
    "version": 3
   },
   "file_extension": ".py",
   "mimetype": "text/x-python",
   "name": "python",
   "nbconvert_exporter": "python",
   "pygments_lexer": "ipython3",
   "version": "3.12.0"
  }
 },
 "nbformat": 4,
 "nbformat_minor": 5
}
